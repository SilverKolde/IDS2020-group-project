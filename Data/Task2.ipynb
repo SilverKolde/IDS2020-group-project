{
 "cells": [
  {
   "cell_type": "markdown",
   "metadata": {},
   "source": [
    "# 1.  Data cleaning and analyzing"
   ]
  },
  {
   "cell_type": "markdown",
   "metadata": {},
   "source": [
    "**<font color='green'>A. Read in the datasets and concatenate them</font>**"
   ]
  },
  {
   "cell_type": "code",
   "execution_count": 1,
   "metadata": {},
   "outputs": [],
   "source": [
    "import pandas as pd\n",
    "pd.set_option('display.max_rows', 500)"
   ]
  },
  {
   "cell_type": "code",
   "execution_count": 2,
   "metadata": {},
   "outputs": [
    {
     "name": "stderr",
     "output_type": "stream",
     "text": [
      "C:\\Users\\silverko\\Anaconda3\\lib\\site-packages\\IPython\\core\\interactiveshell.py:3071: DtypeWarning: Columns (8) have mixed types.Specify dtype option on import or set low_memory=False.\n",
      "  has_raised = await self.run_ast_nodes(code_ast.body, cell_name,\n"
     ]
    }
   ],
   "source": [
    "data1 = pd.read_csv('01-2011-04-2011.csv', sep=';', encoding = \"ISO-8859-1\")\n",
    "data2 = pd.read_csv('05-2011-03-2013.csv', sep=';', encoding = \"ISO-8859-1\")\n",
    "data3 = pd.read_csv('04-2013-04-2016.csv', sep=';', encoding = \"ISO-8859-1\")\n",
    "data4 = pd.read_csv('05-2016-07-2020.csv', sep=';', encoding = \"ISO-8859-1\")\n",
    "data5 = pd.read_csv('08-2020.csv', sep=';', encoding = \"ISO-8859-1\")\n",
    "data6 = pd.read_csv('09-2020.csv', sep=';', encoding = \"ISO-8859-1\")"
   ]
  },
  {
   "cell_type": "code",
   "execution_count": 3,
   "metadata": {},
   "outputs": [
    {
     "name": "stderr",
     "output_type": "stream",
     "text": [
      "C:\\Users\\silverko\\Anaconda3\\lib\\site-packages\\IPython\\core\\interactiveshell.py:3071: DtypeWarning: Columns (7,9,15) have mixed types.Specify dtype option on import or set low_memory=False.\n",
      "  has_raised = await self.run_ast_nodes(code_ast.body, cell_name,\n"
     ]
    },
    {
     "data": {
      "text/plain": [
       "(152311, 21)"
      ]
     },
     "execution_count": 3,
     "metadata": {},
     "output_type": "execute_result"
    }
   ],
   "source": [
    "datas = [data1, data2, data3, data4, data5, data6]\n",
    "data = pd.concat(datas) \n",
    "data.to_csv('concatenated_new_cars.csv', sep=';', encoding = \"ISO-8859-1\")\n",
    "data = pd.read_csv('concatenated_new_cars.csv', sep=';', encoding = \"ISO-8859-1\")\n",
    "data.shape"
   ]
  },
  {
   "cell_type": "markdown",
   "metadata": {},
   "source": [
    "**<font color='green'>B. Data cleaning</font>**"
   ]
  },
  {
   "cell_type": "markdown",
   "metadata": {},
   "source": [
    "The first column is unnecessary (row numbers before concatenating). \n",
    "\n",
    "We're not going to use engine power ('Mootori Võimsus') and CO2 column (data is inconsistent) and the number of seats and axels (irrelevant). \n",
    "\n",
    "Also 'registrimass' and 'täismass', which indicate maximum legal weight with cargo and passengers, are not needed (we keep the vehicle's empty weight). \n",
    "\n",
    "Also, we are not going to need color ('Värv'), location (Maakond, Linn), ownership type ('Tüüp', marks if the owner is the state, private person, or company) and the month of registration (Kuu)."
   ]
  },
  {
   "cell_type": "code",
   "execution_count": 4,
   "metadata": {},
   "outputs": [
    {
     "data": {
      "text/plain": [
       "(152311, 9)"
      ]
     },
     "execution_count": 4,
     "metadata": {},
     "output_type": "execute_result"
    }
   ],
   "source": [
    "# Delete the first column\n",
    "data = data.drop(data.columns[0], axis=1)\n",
    "# Delete the rest\n",
    "data = data.drop(columns=['Mootori võimsus', 'CO2', 'Istekohti', 'Telgi kokku', \n",
    "                          'Registrimass', 'Täismass', 'Värv', 'Maakond', 'Linn', 'Tüüp', 'Kuu'])\n",
    "data.shape"
   ]
  },
  {
   "cell_type": "markdown",
   "metadata": {},
   "source": [
    "Looking through the data, I found issues that have to be addressed:\n",
    "* NaN values should be removed.\n",
    "* We have some excessive vehicles (caravans, racing cars, etc) in the dataframe. We will focus on passenger cars and delete everything else.\n",
    "* Engine types (fuel types basically) overlap and need recategorizing\n"
   ]
  },
  {
   "cell_type": "code",
   "execution_count": 5,
   "metadata": {},
   "outputs": [
    {
     "data": {
      "text/plain": [
       "(147028, 9)"
      ]
     },
     "execution_count": 5,
     "metadata": {},
     "output_type": "execute_result"
    }
   ],
   "source": [
    "# Deleting about 5200 entries that don't have weight value and some other rows(small amount)\n",
    "data = data.dropna()\n",
    "data.shape"
   ]
  },
  {
   "cell_type": "code",
   "execution_count": 6,
   "metadata": {},
   "outputs": [
    {
     "data": {
      "text/plain": [
       "(146442, 9)"
      ]
     },
     "execution_count": 6,
     "metadata": {},
     "output_type": "execute_result"
    }
   ],
   "source": [
    "# Keep only passanger cars\n",
    "irrelevants = ['LIMUSIIN', 'VÕISTLUSAUTO', 'ELAMU', 'SIHTOTSTARBELINE', \n",
    "               'KIIRABI', 'SOOMUSSÕIDUK', 'BUSS']\n",
    "for i in irrelevants:\n",
    "    data = data[data['Keretüüp'] != i]\n",
    "data.shape"
   ]
  },
  {
   "cell_type": "code",
   "execution_count": 7,
   "metadata": {},
   "outputs": [
    {
     "data": {
      "text/plain": [
       "array(['Diisel', 'Bensiin kat.', 'Bensiin hübriid', 'Elekter', 'Gaas',\n",
       "       'Bensiin', 'Surugaas (CNG)', 'Diisel hübriid',\n",
       "       'Veeldatud gaas (LPG)', 'BENSIIN_KATALYSAATOR', 'DIISEL',\n",
       "       'BENSIIN_HYBRIID', 'DIISEL_HYBRIID', 'ELEKTER', 'BENSIIN', 'CNG'],\n",
       "      dtype=object)"
      ]
     },
     "execution_count": 7,
     "metadata": {},
     "output_type": "execute_result"
    }
   ],
   "source": [
    "# Right now we have too many overlapping fuel categories\n",
    "data['Mootori tüüp'].unique()"
   ]
  },
  {
   "cell_type": "code",
   "execution_count": 8,
   "metadata": {},
   "outputs": [
    {
     "data": {
      "text/plain": [
       "array(['Diesel', 'Petrol', 'Hybrid', 'Elekter', 'CNG, LPG', 'Electric'],\n",
       "      dtype=object)"
      ]
     },
     "execution_count": 8,
     "metadata": {},
     "output_type": "execute_result"
    }
   ],
   "source": [
    "data = data.replace('Diisel', 'Diesel')\n",
    "data = data.replace('DIISEL', 'Diesel')\n",
    "data = data.replace('Bensiin kat.', 'Petrol')\n",
    "data = data.replace('Bensiin', 'Petrol')\n",
    "data = data.replace('BENSIIN_KATALYSAATOR', 'Petrol')\n",
    "data = data.replace('BENSIIN', 'Petrol')\n",
    "data = data.replace('Gaas', 'CNG, LPG')\n",
    "data = data.replace('Surugaas (CNG)', 'CNG, LPG')\n",
    "data = data.replace('Veeldatud gaas (LPG)', 'CNG, LPG')\n",
    "data = data.replace('CNG', 'CNG, LPG')\n",
    "data = data.replace('Bensiin hübriid', 'Hybrid')\n",
    "data = data.replace('Diisel hübriid', 'Hybrid')\n",
    "data = data.replace('BENSIIN_HYBRIID', 'Hybrid')\n",
    "data = data.replace('DIISEL_HYBRIID', 'Hybrid')\n",
    "data = data.replace('ELEKTER', 'Electric')\n",
    "\n",
    "# Now we have four major categories\n",
    "data['Mootori tüüp'].unique()"
   ]
  },
  {
   "cell_type": "code",
   "execution_count": 9,
   "metadata": {},
   "outputs": [],
   "source": [
    "copy = data.copy() #saving for later"
   ]
  },
  {
   "cell_type": "markdown",
   "metadata": {},
   "source": [
    "# 2.  Data visualization"
   ]
  },
  {
   "cell_type": "markdown",
   "metadata": {},
   "source": [
    "Now we have a clean dataset to begin work with. Firstly, let's have a look at how many new cars have been registered since 2011. "
   ]
  },
  {
   "cell_type": "markdown",
   "metadata": {},
   "source": [
    "**<font color='green'>A. Number of cars by year</font>**"
   ]
  },
  {
   "cell_type": "code",
   "execution_count": 10,
   "metadata": {},
   "outputs": [
    {
     "name": "stdout",
     "output_type": "stream",
     "text": [
      "[2011, 2012, 2013, 2014, 2015, 2016, 2017, 2018, 2019, 2020]\n",
      "[11761, 19345, 19615, 21067, 21015, 23004, 25555, 25752, 27467, 14594]\n",
      "True\n"
     ]
    }
   ],
   "source": [
    "labels = data['Esm reg aasta'].unique().tolist()\n",
    "\n",
    "# Group the number of new cars by year\n",
    "counts = [0] * len(labels)\n",
    "for index, row in data.iterrows(): # very slow :(\n",
    "    year = row[4]\n",
    "    index = labels.index(year)\n",
    "    count = 1 * row['Arv']\n",
    "    counts[index] += count\n",
    "    \n",
    "print(labels)\n",
    "print(counts)\n",
    "print(sum(counts) == sum(data['Arv']))"
   ]
  },
  {
   "cell_type": "code",
   "execution_count": 11,
   "metadata": {},
   "outputs": [
    {
     "data": {
      "image/png": "[encoded data removed]",
      "text/plain": [
       "<Figure size 720x360 with 1 Axes>"
      ]
     },
     "metadata": {
      "needs_background": "dark"
     },
     "output_type": "display_data"
    }
   ],
   "source": [
    "# Plotting the data\n",
    "import matplotlib.pyplot as plt\n",
    "fig = plt.figure(figsize=(10,5))\n",
    "ax = fig.add_subplot(111)\n",
    "rects = ax.bar(labels, counts)\n",
    "\n",
    "# My editor has dark background. Bright blue should be visible for everybody.\n",
    "ax.spines['bottom'].set_color('deepskyblue')\n",
    "ax.spines['top'].set_color('deepskyblue')\n",
    "ax.spines['left'].set_color('deepskyblue')\n",
    "ax.spines['right'].set_color('deepskyblue')\n",
    "ax.tick_params(axis='x', colors='deepskyblue')\n",
    "ax.tick_params(axis='y', colors='deepskyblue')\n",
    "\n",
    "# Display counts on top of bars\n",
    "for rect, count in zip(rects, counts):\n",
    "    height = rect.get_height()\n",
    "    ax.text(rect.get_x() + rect.get_width()/2., 1*height, count, \n",
    "            ha='center', va='bottom')\n",
    "plt.show()"
   ]
  },
  {
   "cell_type": "markdown",
   "metadata": {},
   "source": [
    "Since 2011 economy has been recovering from the crisis, and the number of new cars registered has been steadily increasing (2020 don't have full data)."
   ]
  },
  {
   "cell_type": "markdown",
   "metadata": {},
   "source": [
    "**<font color='green'>B. Exploring weight of new vehicles</font>**"
   ]
  },
  {
   "cell_type": "markdown",
   "metadata": {},
   "source": [
    "Let's have a look at how much on average the passenger cars weigh. Discover if there is a trend to buy bigger, heavier cars or on the contrary, smaller lighter cars."
   ]
  },
  {
   "cell_type": "code",
   "execution_count": 12,
   "metadata": {},
   "outputs": [
    {
     "name": "stdout",
     "output_type": "stream",
     "text": [
      "[1501, 1515, 1516, 1504, 1505, 1526, 1532, 1533, 1549, 1567]\n"
     ]
    }
   ],
   "source": [
    "# I don't know the clean, consice functions to get average weights for each year, \n",
    "# so I wrote my own.\n",
    "\n",
    "def average_feature_value(feature):\n",
    "    sums_of_values = [0]*len(labels)\n",
    "    for index, row in data.iterrows(): # slow slow slow\n",
    "        index = labels.index(row[4]) \n",
    "        sums_of_values[index] += row[feature] * row['Arv'] # some rows represent multiple cars\n",
    "\n",
    "    avg_values = []\n",
    "    for i in range(len(labels)):\n",
    "        average_for_this_year = round(sums_of_values[i] / counts[i])\n",
    "        avg_values.append(average_for_this_year)\n",
    "    return avg_values    \n",
    "        \n",
    "avg_weights = average_feature_value('Tühimass')\n",
    "print(avg_weights)"
   ]
  },
  {
   "cell_type": "code",
   "execution_count": 13,
   "metadata": {},
   "outputs": [
    {
     "data": {
      "image/png": "[encoded data removed]",
      "text/plain": [
       "<Figure size 720x360 with 1 Axes>"
      ]
     },
     "metadata": {
      "needs_background": "dark"
     },
     "output_type": "display_data"
    }
   ],
   "source": [
    "# Plot the results\n",
    "fig = plt.figure(figsize=(10,5))\n",
    "ax = fig.add_subplot(111)\n",
    "rects = ax.plot(labels, avg_weights)\n",
    "\n",
    "ax.spines['bottom'].set_color('deepskyblue')\n",
    "ax.spines['top'].set_color('deepskyblue')\n",
    "ax.spines['left'].set_color('deepskyblue')\n",
    "ax.spines['right'].set_color('deepskyblue')\n",
    "ax.yaxis.label.set_color('deepskyblue')\n",
    "ax.tick_params(axis='x', colors='deepskyblue')\n",
    "ax.tick_params(axis='y', colors='deepskyblue')\n",
    "axes = plt.gca()\n",
    "axes.set_ylim([1450,1600])\n",
    "plt.ylabel('weight (kg)', fontsize=13)\n",
    "plt.show()"
   ]
  },
  {
   "cell_type": "code",
   "execution_count": 14,
   "metadata": {},
   "outputs": [
    {
     "name": "stdout",
     "output_type": "stream",
     "text": [
      "1524.8\n"
     ]
    }
   ],
   "source": [
    "print(sum(avg_weights)/len(avg_weights))"
   ]
  },
  {
   "cell_type": "markdown",
   "metadata": {},
   "source": [
    "It seems that there is a slight trend upwards, but nothing overly significant. Let's have a look at engines now."
   ]
  },
  {
   "cell_type": "markdown",
   "metadata": {},
   "source": [
    "**<font color='green'>C. Average engine capacities (cubic cm's) </font>**"
   ]
  },
  {
   "cell_type": "markdown",
   "metadata": {},
   "source": [
    "I would have preferred to look at how powerful (kW) and eco-friendly (CO2 levels) the newly registered cars were, but the data was inconsistent, and I could not conclude anything meaningful out of that."
   ]
  },
  {
   "cell_type": "code",
   "execution_count": 15,
   "metadata": {},
   "outputs": [
    {
     "name": "stdout",
     "output_type": "stream",
     "text": [
      "[1768, 1752, 1768, 1730, 1682, 1689, 1660, 1635, 1630, 1630]\n"
     ]
    }
   ],
   "source": [
    "avg_engine_sizes = average_feature_value('Mootori maht')\n",
    "print(avg_engine_sizes)"
   ]
  },
  {
   "cell_type": "code",
   "execution_count": 16,
   "metadata": {},
   "outputs": [
    {
     "data": {
      "image/png": "[encoded data removed]",
      "text/plain": [
       "<Figure size 720x360 with 1 Axes>"
      ]
     },
     "metadata": {
      "needs_background": "dark"
     },
     "output_type": "display_data"
    }
   ],
   "source": [
    "fig = plt.figure(figsize=(10,5))\n",
    "ax = fig.add_subplot(111)\n",
    "rects = ax.plot(labels, avg_engine_sizes)\n",
    "\n",
    "ax.spines['bottom'].set_color('deepskyblue')\n",
    "ax.spines['top'].set_color('deepskyblue')\n",
    "ax.spines['left'].set_color('deepskyblue')\n",
    "ax.spines['right'].set_color('deepskyblue')\n",
    "ax.tick_params(axis='x', colors='deepskyblue')\n",
    "ax.tick_params(axis='y', colors='deepskyblue')\n",
    "ax.yaxis.label.set_color('deepskyblue')\n",
    "plt.ylabel('Engine size (cm3)', fontsize=13)\n",
    "\n",
    "plt.show()"
   ]
  },
  {
   "cell_type": "markdown",
   "metadata": {},
   "source": [
    "Now that's interesting. We can see that average engine sizes have dropped about 0.15L in less than ten years. That's like a 7-9% drop. \n",
    "\n",
    "It would be interesting to have data about fuel economy, engine power, and CO2 levels also, but we have that data since 2016 only :/ "
   ]
  },
  {
   "cell_type": "markdown",
   "metadata": {},
   "source": [
    "**<font color='green'>D. Engine type preferences (petrol, diesel, gas) </font>**"
   ]
  },
  {
   "cell_type": "markdown",
   "metadata": {},
   "source": [
    "Let's have a look which fuel types have gained or lost popularity."
   ]
  },
  {
   "cell_type": "code",
   "execution_count": 17,
   "metadata": {},
   "outputs": [
    {
     "data": {
      "text/plain": [
       "array(['Diesel', 'Petrol', 'Hybrid', 'Elekter', 'CNG, LPG', 'Electric'],\n",
       "      dtype=object)"
      ]
     },
     "execution_count": 17,
     "metadata": {},
     "output_type": "execute_result"
    }
   ],
   "source": [
    "data['Mootori tüüp'].unique()"
   ]
  },
  {
   "cell_type": "code",
   "execution_count": 18,
   "metadata": {},
   "outputs": [],
   "source": [
    "# Saving data for plotting\n",
    "diesels = [0] * len(labels)\n",
    "petrols = [0] * len(labels)\n",
    "hybrids = [0] * len(labels)\n",
    "gases = [0] * len(labels)\n",
    "electrics = [0] * len(labels)\n",
    "for index, row in data.iterrows(): \n",
    "    year = row[4]\n",
    "    idx_in_labels = labels.index(year)\n",
    "    fuel = row[5]\n",
    "    if (fuel == 'Diesel'):\n",
    "        diesels[idx_in_labels] += 1\n",
    "    elif (fuel == 'Petrol'):\n",
    "        petrols[idx_in_labels] += 1 \n",
    "    elif (fuel == 'Hybrid'):\n",
    "        hybrids[idx_in_labels] += 1  \n",
    "    elif (fuel == 'CNG, LPG'):\n",
    "        gases[idx_in_labels] += 1\n",
    "    elif (fuel == 'Electric'):\n",
    "        electrics[idx_in_labels] += 1    \n",
    "    "
   ]
  },
  {
   "cell_type": "code",
   "execution_count": 19,
   "metadata": {},
   "outputs": [
    {
     "data": {
      "image/png": "[encoded data removed]",
      "text/plain": [
       "<Figure size 720x360 with 1 Axes>"
      ]
     },
     "metadata": {
      "needs_background": "dark"
     },
     "output_type": "display_data"
    }
   ],
   "source": [
    "import numpy as np\n",
    "plt.rcParams[\"figure.figsize\"] = (10,5)\n",
    "\n",
    "x = np.arange(len(labels))\n",
    "width = 0.25  # the width of the bars\n",
    "\n",
    "fig, ax = plt.subplots()\n",
    "rects1 = ax.bar(x - width, gases, width, label='Gas')\n",
    "rects2 = ax.bar(x - width/2, petrols, width, label='Petrol')\n",
    "rects3 = ax.bar(x + width/2, diesels, width, label='Diesel')\n",
    "rects4 = ax.bar(x + width, hybrids, width, label='Hybrid')\n",
    "rects5 = ax.bar(x, electrics, width, label='Electric')\n",
    "\n",
    "# Add some text for labels, title and custom x-axis tick labels, etc.\n",
    "ax.set_ylabel('Nr of cars', fontsize=13)\n",
    "ax.set_title('New cars registered by fuel types', fontsize=14)\n",
    "ax.set_xticks(x)\n",
    "ax.set_xticklabels(labels)\n",
    "ax.legend()\n",
    "\n",
    "# Coloring\n",
    "ax.spines['bottom'].set_color('deepskyblue')\n",
    "ax.spines['top'].set_color('deepskyblue')\n",
    "ax.spines['left'].set_color('deepskyblue')\n",
    "ax.spines['right'].set_color('deepskyblue')\n",
    "ax.tick_params(axis='x', colors='deepskyblue')\n",
    "ax.tick_params(axis='y', colors='deepskyblue')\n",
    "ax.yaxis.label.set_color('deepskyblue')\n",
    "ax.title.set_color('deepskyblue')\n",
    "\n",
    "def autolabel(rects):\n",
    "    \"\"\"Attach a text label above each bar in *rects*, displaying its height.\"\"\"\n",
    "    for rect in rects:\n",
    "        height = rect.get_height()\n",
    "        ax.annotate('{}'.format(height),\n",
    "                    xy=(rect.get_x() + rect.get_width() / 2, height),\n",
    "                    xytext=(0, 3),  # 3 points vertical offset\n",
    "                    textcoords=\"offset points\",\n",
    "                    ha='center', va='bottom')\n",
    "        \n",
    "autolabel(rects1)\n",
    "autolabel(rects2)\n",
    "autolabel(rects3)\n",
    "autolabel(rects4)\n",
    "autolabel(rects5)\n",
    "\n",
    "fig.tight_layout()\n",
    "\n",
    "plt.show()"
   ]
  },
  {
   "cell_type": "markdown",
   "metadata": {},
   "source": [
    "We can see that by far the most popular fuel type is petrol. Diesel sales have been quite stable over the years. But we can see a clear trend that alternative, eco-friendly fuel types are becoming increasingly popular."
   ]
  },
  {
   "cell_type": "markdown",
   "metadata": {},
   "source": [
    "Now I have reached a point where I don't know what to do. Taking on this subject I had some vague idea of scanning through data and mysteriously discovering some features X, Y, Z, that make people buy cars A, B and C. Now I realize I had no idea what I was going to achieve. \n",
    "\n",
    "I will just try to predict the body type ('Keretüüp'). If manufacturer ('Mark') and model ('Mudel') are known, it should be pretty accurate."
   ]
  },
  {
   "cell_type": "markdown",
   "metadata": {},
   "source": [
    "# 3. Predicting body type based on other features."
   ]
  },
  {
   "cell_type": "markdown",
   "metadata": {},
   "source": [
    "TODO Explain why this algo"
   ]
  },
  {
   "cell_type": "code",
   "execution_count": 20,
   "metadata": {},
   "outputs": [],
   "source": [
    "data = copy\n",
    "copy = data"
   ]
  },
  {
   "cell_type": "code",
   "execution_count": 21,
   "metadata": {},
   "outputs": [
    {
     "data": {
      "text/html": [
       "<div>\n",
       "<style scoped>\n",
       "    .dataframe tbody tr th:only-of-type {\n",
       "        vertical-align: middle;\n",
       "    }\n",
       "\n",
       "    .dataframe tbody tr th {\n",
       "        vertical-align: top;\n",
       "    }\n",
       "\n",
       "    .dataframe thead th {\n",
       "        text-align: right;\n",
       "    }\n",
       "</style>\n",
       "<table border=\"1\" class=\"dataframe\">\n",
       "  <thead>\n",
       "    <tr style=\"text-align: right;\">\n",
       "      <th></th>\n",
       "      <th>Keretüüp</th>\n",
       "      <th>Esm reg aasta</th>\n",
       "      <th>Mootori maht</th>\n",
       "      <th>Tühimass</th>\n",
       "      <th>Arv</th>\n",
       "      <th>Kategooria_M1</th>\n",
       "      <th>Kategooria_M1G</th>\n",
       "      <th>Mark_ALFA ROMEO</th>\n",
       "      <th>Mark_ALPINE</th>\n",
       "      <th>Mark_ASTON MARTIN</th>\n",
       "      <th>...</th>\n",
       "      <th>Mudel_Z4 SDRIVE 35IS</th>\n",
       "      <th>Mudel_ZAFIRA</th>\n",
       "      <th>Mudel_ZAFIRA TOURER</th>\n",
       "      <th>Mudel_ZOE</th>\n",
       "      <th>Mootori tüüp_CNG, LPG</th>\n",
       "      <th>Mootori tüüp_Diesel</th>\n",
       "      <th>Mootori tüüp_Electric</th>\n",
       "      <th>Mootori tüüp_Elekter</th>\n",
       "      <th>Mootori tüüp_Hybrid</th>\n",
       "      <th>Mootori tüüp_Petrol</th>\n",
       "    </tr>\n",
       "  </thead>\n",
       "  <tbody>\n",
       "    <tr>\n",
       "      <th>5283</th>\n",
       "      <td>SEDAAN</td>\n",
       "      <td>2011</td>\n",
       "      <td>1968</td>\n",
       "      <td>1540.0</td>\n",
       "      <td>1</td>\n",
       "      <td>1</td>\n",
       "      <td>0</td>\n",
       "      <td>0</td>\n",
       "      <td>0</td>\n",
       "      <td>0</td>\n",
       "      <td>...</td>\n",
       "      <td>0</td>\n",
       "      <td>0</td>\n",
       "      <td>0</td>\n",
       "      <td>0</td>\n",
       "      <td>0</td>\n",
       "      <td>1</td>\n",
       "      <td>0</td>\n",
       "      <td>0</td>\n",
       "      <td>0</td>\n",
       "      <td>0</td>\n",
       "    </tr>\n",
       "    <tr>\n",
       "      <th>5284</th>\n",
       "      <td>UNIVERSAAL</td>\n",
       "      <td>2011</td>\n",
       "      <td>1798</td>\n",
       "      <td>1585.0</td>\n",
       "      <td>1</td>\n",
       "      <td>1</td>\n",
       "      <td>0</td>\n",
       "      <td>0</td>\n",
       "      <td>0</td>\n",
       "      <td>0</td>\n",
       "      <td>...</td>\n",
       "      <td>0</td>\n",
       "      <td>0</td>\n",
       "      <td>0</td>\n",
       "      <td>0</td>\n",
       "      <td>0</td>\n",
       "      <td>0</td>\n",
       "      <td>0</td>\n",
       "      <td>0</td>\n",
       "      <td>0</td>\n",
       "      <td>1</td>\n",
       "    </tr>\n",
       "    <tr>\n",
       "      <th>5285</th>\n",
       "      <td>SEDAAN</td>\n",
       "      <td>2011</td>\n",
       "      <td>2995</td>\n",
       "      <td>1815.0</td>\n",
       "      <td>1</td>\n",
       "      <td>1</td>\n",
       "      <td>0</td>\n",
       "      <td>0</td>\n",
       "      <td>0</td>\n",
       "      <td>0</td>\n",
       "      <td>...</td>\n",
       "      <td>0</td>\n",
       "      <td>0</td>\n",
       "      <td>0</td>\n",
       "      <td>0</td>\n",
       "      <td>0</td>\n",
       "      <td>0</td>\n",
       "      <td>0</td>\n",
       "      <td>0</td>\n",
       "      <td>0</td>\n",
       "      <td>1</td>\n",
       "    </tr>\n",
       "    <tr>\n",
       "      <th>5286</th>\n",
       "      <td>SEDAAN</td>\n",
       "      <td>2011</td>\n",
       "      <td>1968</td>\n",
       "      <td>1650.0</td>\n",
       "      <td>1</td>\n",
       "      <td>1</td>\n",
       "      <td>0</td>\n",
       "      <td>0</td>\n",
       "      <td>0</td>\n",
       "      <td>0</td>\n",
       "      <td>...</td>\n",
       "      <td>0</td>\n",
       "      <td>0</td>\n",
       "      <td>0</td>\n",
       "      <td>0</td>\n",
       "      <td>0</td>\n",
       "      <td>1</td>\n",
       "      <td>0</td>\n",
       "      <td>0</td>\n",
       "      <td>0</td>\n",
       "      <td>0</td>\n",
       "    </tr>\n",
       "    <tr>\n",
       "      <th>5287</th>\n",
       "      <td>SEDAAN</td>\n",
       "      <td>2011</td>\n",
       "      <td>2967</td>\n",
       "      <td>1795.0</td>\n",
       "      <td>2</td>\n",
       "      <td>1</td>\n",
       "      <td>0</td>\n",
       "      <td>0</td>\n",
       "      <td>0</td>\n",
       "      <td>0</td>\n",
       "      <td>...</td>\n",
       "      <td>0</td>\n",
       "      <td>0</td>\n",
       "      <td>0</td>\n",
       "      <td>0</td>\n",
       "      <td>0</td>\n",
       "      <td>1</td>\n",
       "      <td>0</td>\n",
       "      <td>0</td>\n",
       "      <td>0</td>\n",
       "      <td>0</td>\n",
       "    </tr>\n",
       "    <tr>\n",
       "      <th>...</th>\n",
       "      <td>...</td>\n",
       "      <td>...</td>\n",
       "      <td>...</td>\n",
       "      <td>...</td>\n",
       "      <td>...</td>\n",
       "      <td>...</td>\n",
       "      <td>...</td>\n",
       "      <td>...</td>\n",
       "      <td>...</td>\n",
       "      <td>...</td>\n",
       "      <td>...</td>\n",
       "      <td>...</td>\n",
       "      <td>...</td>\n",
       "      <td>...</td>\n",
       "      <td>...</td>\n",
       "      <td>...</td>\n",
       "      <td>...</td>\n",
       "      <td>...</td>\n",
       "      <td>...</td>\n",
       "      <td>...</td>\n",
       "      <td>...</td>\n",
       "    </tr>\n",
       "    <tr>\n",
       "      <th>152306</th>\n",
       "      <td>UNIVERSAAL</td>\n",
       "      <td>2020</td>\n",
       "      <td>1969</td>\n",
       "      <td>2050.0</td>\n",
       "      <td>1</td>\n",
       "      <td>0</td>\n",
       "      <td>1</td>\n",
       "      <td>0</td>\n",
       "      <td>0</td>\n",
       "      <td>0</td>\n",
       "      <td>...</td>\n",
       "      <td>0</td>\n",
       "      <td>0</td>\n",
       "      <td>0</td>\n",
       "      <td>0</td>\n",
       "      <td>0</td>\n",
       "      <td>0</td>\n",
       "      <td>0</td>\n",
       "      <td>0</td>\n",
       "      <td>1</td>\n",
       "      <td>0</td>\n",
       "    </tr>\n",
       "    <tr>\n",
       "      <th>152307</th>\n",
       "      <td>MAHTUNIVERSAAL</td>\n",
       "      <td>2020</td>\n",
       "      <td>1969</td>\n",
       "      <td>2165.0</td>\n",
       "      <td>1</td>\n",
       "      <td>0</td>\n",
       "      <td>1</td>\n",
       "      <td>0</td>\n",
       "      <td>0</td>\n",
       "      <td>0</td>\n",
       "      <td>...</td>\n",
       "      <td>0</td>\n",
       "      <td>0</td>\n",
       "      <td>0</td>\n",
       "      <td>0</td>\n",
       "      <td>0</td>\n",
       "      <td>0</td>\n",
       "      <td>0</td>\n",
       "      <td>0</td>\n",
       "      <td>1</td>\n",
       "      <td>0</td>\n",
       "    </tr>\n",
       "    <tr>\n",
       "      <th>152308</th>\n",
       "      <td>MAHTUNIVERSAAL</td>\n",
       "      <td>2020</td>\n",
       "      <td>1969</td>\n",
       "      <td>2237.0</td>\n",
       "      <td>1</td>\n",
       "      <td>0</td>\n",
       "      <td>1</td>\n",
       "      <td>0</td>\n",
       "      <td>0</td>\n",
       "      <td>0</td>\n",
       "      <td>...</td>\n",
       "      <td>0</td>\n",
       "      <td>0</td>\n",
       "      <td>0</td>\n",
       "      <td>0</td>\n",
       "      <td>0</td>\n",
       "      <td>0</td>\n",
       "      <td>0</td>\n",
       "      <td>0</td>\n",
       "      <td>1</td>\n",
       "      <td>0</td>\n",
       "    </tr>\n",
       "    <tr>\n",
       "      <th>152309</th>\n",
       "      <td>MAHTUNIVERSAAL</td>\n",
       "      <td>2020</td>\n",
       "      <td>1969</td>\n",
       "      <td>2320.0</td>\n",
       "      <td>1</td>\n",
       "      <td>0</td>\n",
       "      <td>1</td>\n",
       "      <td>0</td>\n",
       "      <td>0</td>\n",
       "      <td>0</td>\n",
       "      <td>...</td>\n",
       "      <td>0</td>\n",
       "      <td>0</td>\n",
       "      <td>0</td>\n",
       "      <td>0</td>\n",
       "      <td>0</td>\n",
       "      <td>0</td>\n",
       "      <td>0</td>\n",
       "      <td>0</td>\n",
       "      <td>1</td>\n",
       "      <td>0</td>\n",
       "    </tr>\n",
       "    <tr>\n",
       "      <th>152310</th>\n",
       "      <td>MAHTUNIVERSAAL</td>\n",
       "      <td>2020</td>\n",
       "      <td>1969</td>\n",
       "      <td>2269.0</td>\n",
       "      <td>1</td>\n",
       "      <td>0</td>\n",
       "      <td>1</td>\n",
       "      <td>0</td>\n",
       "      <td>0</td>\n",
       "      <td>0</td>\n",
       "      <td>...</td>\n",
       "      <td>0</td>\n",
       "      <td>0</td>\n",
       "      <td>0</td>\n",
       "      <td>0</td>\n",
       "      <td>0</td>\n",
       "      <td>0</td>\n",
       "      <td>0</td>\n",
       "      <td>0</td>\n",
       "      <td>1</td>\n",
       "      <td>0</td>\n",
       "    </tr>\n",
       "  </tbody>\n",
       "</table>\n",
       "<p>146442 rows × 1280 columns</p>\n",
       "</div>"
      ],
      "text/plain": [
       "              Keretüüp  Esm reg aasta  Mootori maht  Tühimass  Arv  \\\n",
       "5283            SEDAAN           2011          1968    1540.0    1   \n",
       "5284        UNIVERSAAL           2011          1798    1585.0    1   \n",
       "5285            SEDAAN           2011          2995    1815.0    1   \n",
       "5286            SEDAAN           2011          1968    1650.0    1   \n",
       "5287            SEDAAN           2011          2967    1795.0    2   \n",
       "...                ...            ...           ...       ...  ...   \n",
       "152306      UNIVERSAAL           2020          1969    2050.0    1   \n",
       "152307  MAHTUNIVERSAAL           2020          1969    2165.0    1   \n",
       "152308  MAHTUNIVERSAAL           2020          1969    2237.0    1   \n",
       "152309  MAHTUNIVERSAAL           2020          1969    2320.0    1   \n",
       "152310  MAHTUNIVERSAAL           2020          1969    2269.0    1   \n",
       "\n",
       "        Kategooria_M1  Kategooria_M1G  Mark_ALFA ROMEO  Mark_ALPINE  \\\n",
       "5283                1               0                0            0   \n",
       "5284                1               0                0            0   \n",
       "5285                1               0                0            0   \n",
       "5286                1               0                0            0   \n",
       "5287                1               0                0            0   \n",
       "...               ...             ...              ...          ...   \n",
       "152306              0               1                0            0   \n",
       "152307              0               1                0            0   \n",
       "152308              0               1                0            0   \n",
       "152309              0               1                0            0   \n",
       "152310              0               1                0            0   \n",
       "\n",
       "        Mark_ASTON MARTIN  ...  Mudel_Z4 SDRIVE 35IS  Mudel_ZAFIRA  \\\n",
       "5283                    0  ...                     0             0   \n",
       "5284                    0  ...                     0             0   \n",
       "5285                    0  ...                     0             0   \n",
       "5286                    0  ...                     0             0   \n",
       "5287                    0  ...                     0             0   \n",
       "...                   ...  ...                   ...           ...   \n",
       "152306                  0  ...                     0             0   \n",
       "152307                  0  ...                     0             0   \n",
       "152308                  0  ...                     0             0   \n",
       "152309                  0  ...                     0             0   \n",
       "152310                  0  ...                     0             0   \n",
       "\n",
       "        Mudel_ZAFIRA TOURER  Mudel_ZOE  Mootori tüüp_CNG, LPG  \\\n",
       "5283                      0          0                      0   \n",
       "5284                      0          0                      0   \n",
       "5285                      0          0                      0   \n",
       "5286                      0          0                      0   \n",
       "5287                      0          0                      0   \n",
       "...                     ...        ...                    ...   \n",
       "152306                    0          0                      0   \n",
       "152307                    0          0                      0   \n",
       "152308                    0          0                      0   \n",
       "152309                    0          0                      0   \n",
       "152310                    0          0                      0   \n",
       "\n",
       "        Mootori tüüp_Diesel  Mootori tüüp_Electric  Mootori tüüp_Elekter  \\\n",
       "5283                      1                      0                     0   \n",
       "5284                      0                      0                     0   \n",
       "5285                      0                      0                     0   \n",
       "5286                      1                      0                     0   \n",
       "5287                      1                      0                     0   \n",
       "...                     ...                    ...                   ...   \n",
       "152306                    0                      0                     0   \n",
       "152307                    0                      0                     0   \n",
       "152308                    0                      0                     0   \n",
       "152309                    0                      0                     0   \n",
       "152310                    0                      0                     0   \n",
       "\n",
       "        Mootori tüüp_Hybrid  Mootori tüüp_Petrol  \n",
       "5283                      0                    0  \n",
       "5284                      0                    1  \n",
       "5285                      0                    1  \n",
       "5286                      0                    0  \n",
       "5287                      0                    0  \n",
       "...                     ...                  ...  \n",
       "152306                    1                    0  \n",
       "152307                    1                    0  \n",
       "152308                    1                    0  \n",
       "152309                    1                    0  \n",
       "152310                    1                    0  \n",
       "\n",
       "[146442 rows x 1280 columns]"
      ]
     },
     "execution_count": 21,
     "metadata": {},
     "output_type": "execute_result"
    }
   ],
   "source": [
    "data_dum = pd.get_dummies(data, columns=[\"Kategooria\", \"Mark\", \"Mudel\", \"Mootori tüüp\"])\n",
    "data_dum"
   ]
  },
  {
   "cell_type": "code",
   "execution_count": 22,
   "metadata": {},
   "outputs": [
    {
     "data": {
      "text/plain": [
       "[2011, 2012, 2013, 2014, 2015, 2016, 2017, 2018, 2019, 2020]"
      ]
     },
     "execution_count": 22,
     "metadata": {},
     "output_type": "execute_result"
    }
   ],
   "source": [
    "labels"
   ]
  },
  {
   "cell_type": "code",
   "execution_count": 23,
   "metadata": {},
   "outputs": [
    {
     "name": "stdout",
     "output_type": "stream",
     "text": [
      "The number of test instances:  43933\n",
      "The % of the whole set: 30.00027314568225\n"
     ]
    }
   ],
   "source": [
    "from sklearn.model_selection import train_test_split\n",
    "\n",
    "labels = data['Keretüüp']\n",
    "data_dum = data_dum.drop(columns=['Keretüüp'])\n",
    "\n",
    "X_train, X_test, y_train, y_test = train_test_split(data_dum, labels, train_size=0.7, \n",
    "                                                    random_state=0)\n",
    "print(\"The number of test instances: \", len(X_test))\n",
    "print(\"The % of the whole set:\", (len(X_test)/data.shape[0])*100)"
   ]
  },
  {
   "cell_type": "code",
   "execution_count": 24,
   "metadata": {},
   "outputs": [
    {
     "data": {
      "text/html": [
       "<div>\n",
       "<style scoped>\n",
       "    .dataframe tbody tr th:only-of-type {\n",
       "        vertical-align: middle;\n",
       "    }\n",
       "\n",
       "    .dataframe tbody tr th {\n",
       "        vertical-align: top;\n",
       "    }\n",
       "\n",
       "    .dataframe thead th {\n",
       "        text-align: right;\n",
       "    }\n",
       "</style>\n",
       "<table border=\"1\" class=\"dataframe\">\n",
       "  <thead>\n",
       "    <tr style=\"text-align: right;\">\n",
       "      <th></th>\n",
       "      <th>model</th>\n",
       "      <th>accuracy</th>\n",
       "    </tr>\n",
       "  </thead>\n",
       "  <tbody>\n",
       "    <tr>\n",
       "      <th>0</th>\n",
       "      <td>1-NN</td>\n",
       "      <td>0.929893</td>\n",
       "    </tr>\n",
       "  </tbody>\n",
       "</table>\n",
       "</div>"
      ],
      "text/plain": [
       "  model  accuracy\n",
       "0  1-NN  0.929893"
      ]
     },
     "execution_count": 24,
     "metadata": {},
     "output_type": "execute_result"
    }
   ],
   "source": [
    "from sklearn.neighbors import KNeighborsClassifier\n",
    "from sklearn.metrics import accuracy_score\n",
    "\n",
    "results_df = pd.DataFrame(columns=['model', 'accuracy'])\n",
    "model = KNeighborsClassifier(n_neighbors = 1)\n",
    "model.fit(X_train, y_train)\n",
    "prediction = model.predict(X_test)\n",
    "acc = accuracy_score(y_test, prediction) # compares the actual result and prediction\n",
    "results_df = results_df.append({'model': '1-NN', 'accuracy': acc }, ignore_index=True)\n",
    "\n",
    "results_df"
   ]
  },
  {
   "cell_type": "code",
   "execution_count": 25,
   "metadata": {},
   "outputs": [
    {
     "name": "stdout",
     "output_type": "stream",
     "text": [
      "43933\n"
     ]
    }
   ],
   "source": [
    "print(len(prediction))"
   ]
  },
  {
   "cell_type": "code",
   "execution_count": 26,
   "metadata": {},
   "outputs": [
    {
     "data": {
      "text/html": [
       "<div>\n",
       "<style scoped>\n",
       "    .dataframe tbody tr th:only-of-type {\n",
       "        vertical-align: middle;\n",
       "    }\n",
       "\n",
       "    .dataframe tbody tr th {\n",
       "        vertical-align: top;\n",
       "    }\n",
       "\n",
       "    .dataframe thead th {\n",
       "        text-align: right;\n",
       "    }\n",
       "</style>\n",
       "<table border=\"1\" class=\"dataframe\">\n",
       "  <thead>\n",
       "    <tr style=\"text-align: right;\">\n",
       "      <th></th>\n",
       "      <th>Actual</th>\n",
       "      <th>Predicted</th>\n",
       "    </tr>\n",
       "  </thead>\n",
       "  <tbody>\n",
       "    <tr>\n",
       "      <th>76959</th>\n",
       "      <td>UNIVERSAAL</td>\n",
       "      <td>UNIVERSAAL</td>\n",
       "    </tr>\n",
       "    <tr>\n",
       "      <th>103352</th>\n",
       "      <td>UNIVERSAAL</td>\n",
       "      <td>UNIVERSAAL</td>\n",
       "    </tr>\n",
       "    <tr>\n",
       "      <th>80643</th>\n",
       "      <td>LUUKPÄRA</td>\n",
       "      <td>LUUKPÄRA</td>\n",
       "    </tr>\n",
       "    <tr>\n",
       "      <th>104467</th>\n",
       "      <td>LUUKPÄRA</td>\n",
       "      <td>LUUKPÄRA</td>\n",
       "    </tr>\n",
       "    <tr>\n",
       "      <th>136339</th>\n",
       "      <td>UNIVERSAAL</td>\n",
       "      <td>UNIVERSAAL</td>\n",
       "    </tr>\n",
       "    <tr>\n",
       "      <th>...</th>\n",
       "      <td>...</td>\n",
       "      <td>...</td>\n",
       "    </tr>\n",
       "    <tr>\n",
       "      <th>124040</th>\n",
       "      <td>UNIVERSAAL</td>\n",
       "      <td>UNIVERSAAL</td>\n",
       "    </tr>\n",
       "    <tr>\n",
       "      <th>119468</th>\n",
       "      <td>LUUKPÄRA</td>\n",
       "      <td>LUUKPÄRA</td>\n",
       "    </tr>\n",
       "    <tr>\n",
       "      <th>86781</th>\n",
       "      <td>MAHTUNIVERSAAL</td>\n",
       "      <td>MAHTUNIVERSAAL</td>\n",
       "    </tr>\n",
       "    <tr>\n",
       "      <th>17768</th>\n",
       "      <td>SEDAAN</td>\n",
       "      <td>SEDAAN</td>\n",
       "    </tr>\n",
       "    <tr>\n",
       "      <th>41662</th>\n",
       "      <td>MAHTUNIVERSAAL</td>\n",
       "      <td>MAHTUNIVERSAAL</td>\n",
       "    </tr>\n",
       "  </tbody>\n",
       "</table>\n",
       "<p>43933 rows × 2 columns</p>\n",
       "</div>"
      ],
      "text/plain": [
       "                Actual       Predicted\n",
       "76959       UNIVERSAAL      UNIVERSAAL\n",
       "103352      UNIVERSAAL      UNIVERSAAL\n",
       "80643         LUUKPÄRA        LUUKPÄRA\n",
       "104467        LUUKPÄRA        LUUKPÄRA\n",
       "136339      UNIVERSAAL      UNIVERSAAL\n",
       "...                ...             ...\n",
       "124040      UNIVERSAAL      UNIVERSAAL\n",
       "119468        LUUKPÄRA        LUUKPÄRA\n",
       "86781   MAHTUNIVERSAAL  MAHTUNIVERSAAL\n",
       "17768           SEDAAN          SEDAAN\n",
       "41662   MAHTUNIVERSAAL  MAHTUNIVERSAAL\n",
       "\n",
       "[43933 rows x 2 columns]"
      ]
     },
     "execution_count": 26,
     "metadata": {},
     "output_type": "execute_result"
    }
   ],
   "source": [
    "pd.set_option('display.max_rows', 50)\n",
    "just_a_df = pd.DataFrame({'Actual': y_test,\n",
    "                          'Predicted': prediction})\n",
    "just_a_df"
   ]
  },
  {
   "cell_type": "code",
   "execution_count": 27,
   "metadata": {},
   "outputs": [],
   "source": [
    "same_values = 0\n",
    "for index, row in just_a_df.iterrows():\n",
    "    if (row['Actual'] == row['Predicted']):\n",
    "        same_values += 1"
   ]
  },
  {
   "cell_type": "code",
   "execution_count": 28,
   "metadata": {},
   "outputs": [
    {
     "name": "stdout",
     "output_type": "stream",
     "text": [
      "0.9298932465344957\n"
     ]
    }
   ],
   "source": [
    "print(same_values/len(y_test))"
   ]
  },
  {
   "cell_type": "code",
   "execution_count": null,
   "metadata": {},
   "outputs": [],
   "source": []
  }
 ],
 "metadata": {
  "kernelspec": {
   "display_name": "Python 3",
   "language": "python",
   "name": "python3"
  },
  "language_info": {
   "codemirror_mode": {
    "name": "ipython",
    "version": 3
   },
   "file_extension": ".py",
   "mimetype": "text/x-python",
   "name": "python",
   "nbconvert_exporter": "python",
   "pygments_lexer": "ipython3",
   "version": "3.8.3"
  }
 },
 "nbformat": 4,
 "nbformat_minor": 4
}
